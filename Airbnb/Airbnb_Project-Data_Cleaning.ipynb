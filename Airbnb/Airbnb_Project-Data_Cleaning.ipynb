{
 "cells": [
  {
   "cell_type": "markdown",
   "id": "948d12f3",
   "metadata": {},
   "source": [
    "## Data Cleaning"
   ]
  },
  {
   "cell_type": "markdown",
   "id": "bc786769",
   "metadata": {},
   "source": [
    "There are 3 files that I will use for this project. All of the files need to be checked and cleaned."
   ]
  },
  {
   "cell_type": "markdown",
   "id": "5d36f1ff",
   "metadata": {},
   "source": [
    "### 1. Listings"
   ]
  },
  {
   "cell_type": "markdown",
   "id": "d5e1e6d3",
   "metadata": {},
   "source": [
    "This data is published in: http://insideairbnb.com/get-the-data/"
   ]
  },
  {
   "cell_type": "code",
   "execution_count": 1,
   "id": "b60250ed",
   "metadata": {},
   "outputs": [],
   "source": [
    "import glob #to return file paths with a specific pattern\n",
    "import pandas as pd #data processing\n",
    "import os #interaction with operating system\n",
    "import numpy as np #working with arrays"
   ]
  },
  {
   "cell_type": "code",
   "execution_count": 2,
   "id": "1afb2f1a",
   "metadata": {},
   "outputs": [],
   "source": [
    "#change directory\n",
    "os.chdir('C:\\\\Users\\\\User\\\\Desktop\\\\airbnb_data')"
   ]
  },
  {
   "cell_type": "code",
   "execution_count": 3,
   "id": "82f16b25",
   "metadata": {
    "scrolled": true
   },
   "outputs": [
    {
     "data": {
      "text/html": [
       "<div>\n",
       "<style scoped>\n",
       "    .dataframe tbody tr th:only-of-type {\n",
       "        vertical-align: middle;\n",
       "    }\n",
       "\n",
       "    .dataframe tbody tr th {\n",
       "        vertical-align: top;\n",
       "    }\n",
       "\n",
       "    .dataframe thead th {\n",
       "        text-align: right;\n",
       "    }\n",
       "</style>\n",
       "<table border=\"1\" class=\"dataframe\">\n",
       "  <thead>\n",
       "    <tr style=\"text-align: right;\">\n",
       "      <th></th>\n",
       "      <th>id</th>\n",
       "      <th>listing_url</th>\n",
       "      <th>scrape_id</th>\n",
       "      <th>last_scraped</th>\n",
       "      <th>name</th>\n",
       "      <th>description</th>\n",
       "      <th>neighborhood_overview</th>\n",
       "      <th>picture_url</th>\n",
       "      <th>host_id</th>\n",
       "      <th>host_url</th>\n",
       "      <th>...</th>\n",
       "      <th>review_scores_communication</th>\n",
       "      <th>review_scores_location</th>\n",
       "      <th>review_scores_value</th>\n",
       "      <th>license</th>\n",
       "      <th>instant_bookable</th>\n",
       "      <th>calculated_host_listings_count</th>\n",
       "      <th>calculated_host_listings_count_entire_homes</th>\n",
       "      <th>calculated_host_listings_count_private_rooms</th>\n",
       "      <th>calculated_host_listings_count_shared_rooms</th>\n",
       "      <th>reviews_per_month</th>\n",
       "    </tr>\n",
       "  </thead>\n",
       "  <tbody>\n",
       "    <tr>\n",
       "      <th>0</th>\n",
       "      <td>607014960957869901</td>\n",
       "      <td>https://www.airbnb.com/rooms/607014960957869901</td>\n",
       "      <td>20220610041446</td>\n",
       "      <td>2022-06-10</td>\n",
       "      <td>Beautiful 3 bed family home with hot tub</td>\n",
       "      <td>Your family will be close to everything when y...</td>\n",
       "      <td>NaN</td>\n",
       "      <td>https://a0.muscache.com/pictures/22ba6932-11e6...</td>\n",
       "      <td>454666979</td>\n",
       "      <td>https://www.airbnb.com/users/show/454666979</td>\n",
       "      <td>...</td>\n",
       "      <td>NaN</td>\n",
       "      <td>NaN</td>\n",
       "      <td>NaN</td>\n",
       "      <td>NaN</td>\n",
       "      <td>t</td>\n",
       "      <td>1</td>\n",
       "      <td>1</td>\n",
       "      <td>0</td>\n",
       "      <td>0</td>\n",
       "      <td>NaN</td>\n",
       "    </tr>\n",
       "    <tr>\n",
       "      <th>1</th>\n",
       "      <td>1040492</td>\n",
       "      <td>https://www.airbnb.com/rooms/1040492</td>\n",
       "      <td>20220610041446</td>\n",
       "      <td>2022-06-10</td>\n",
       "      <td>Edinburgh Waterfront Apartments (green)</td>\n",
       "      <td>&lt;b&gt;The space&lt;/b&gt;&lt;br /&gt;Set in Edinburgh’s fashi...</td>\n",
       "      <td>NaN</td>\n",
       "      <td>https://a0.muscache.com/pictures/18975884/b655...</td>\n",
       "      <td>1297674</td>\n",
       "      <td>https://www.airbnb.com/users/show/1297674</td>\n",
       "      <td>...</td>\n",
       "      <td>4.90</td>\n",
       "      <td>4.64</td>\n",
       "      <td>4.70</td>\n",
       "      <td>NaN</td>\n",
       "      <td>t</td>\n",
       "      <td>3</td>\n",
       "      <td>3</td>\n",
       "      <td>0</td>\n",
       "      <td>0</td>\n",
       "      <td>0.58</td>\n",
       "    </tr>\n",
       "    <tr>\n",
       "      <th>2</th>\n",
       "      <td>15420</td>\n",
       "      <td>https://www.airbnb.com/rooms/15420</td>\n",
       "      <td>20220610041446</td>\n",
       "      <td>2022-06-10</td>\n",
       "      <td>Georgian Boutique Apt City Centre</td>\n",
       "      <td>Stunning, impeccably refurbished spacious grou...</td>\n",
       "      <td>The neighbourhood is in the historic New Town,...</td>\n",
       "      <td>https://a0.muscache.com/pictures/cf69631f-4194...</td>\n",
       "      <td>60423</td>\n",
       "      <td>https://www.airbnb.com/users/show/60423</td>\n",
       "      <td>...</td>\n",
       "      <td>4.98</td>\n",
       "      <td>4.98</td>\n",
       "      <td>4.90</td>\n",
       "      <td>NaN</td>\n",
       "      <td>f</td>\n",
       "      <td>1</td>\n",
       "      <td>1</td>\n",
       "      <td>0</td>\n",
       "      <td>0</td>\n",
       "      <td>2.95</td>\n",
       "    </tr>\n",
       "    <tr>\n",
       "      <th>3</th>\n",
       "      <td>24288</td>\n",
       "      <td>https://www.airbnb.com/rooms/24288</td>\n",
       "      <td>20220610041446</td>\n",
       "      <td>2022-06-10</td>\n",
       "      <td>Cool central Loft, sleeps 4, 2 double bed+en-s...</td>\n",
       "      <td>Upper level of duplex. Boho rustic-chic former...</td>\n",
       "      <td>It's all in the mix: Culture-museums and galle...</td>\n",
       "      <td>https://a0.muscache.com/pictures/3460007/88731...</td>\n",
       "      <td>46498</td>\n",
       "      <td>https://www.airbnb.com/users/show/46498</td>\n",
       "      <td>...</td>\n",
       "      <td>4.89</td>\n",
       "      <td>4.85</td>\n",
       "      <td>4.60</td>\n",
       "      <td>NaN</td>\n",
       "      <td>t</td>\n",
       "      <td>1</td>\n",
       "      <td>1</td>\n",
       "      <td>0</td>\n",
       "      <td>0</td>\n",
       "      <td>1.60</td>\n",
       "    </tr>\n",
       "    <tr>\n",
       "      <th>4</th>\n",
       "      <td>38628</td>\n",
       "      <td>https://www.airbnb.com/rooms/38628</td>\n",
       "      <td>20220610041446</td>\n",
       "      <td>2022-06-10</td>\n",
       "      <td>Edinburgh Holiday Let</td>\n",
       "      <td>Brunstane - Daiches Braes (close to Portobello...</td>\n",
       "      <td>Quiet and easy access to outside.</td>\n",
       "      <td>https://a0.muscache.com/pictures/d9885120-178e...</td>\n",
       "      <td>165635</td>\n",
       "      <td>https://www.airbnb.com/users/show/165635</td>\n",
       "      <td>...</td>\n",
       "      <td>4.80</td>\n",
       "      <td>4.73</td>\n",
       "      <td>4.75</td>\n",
       "      <td>NaN</td>\n",
       "      <td>f</td>\n",
       "      <td>2</td>\n",
       "      <td>2</td>\n",
       "      <td>0</td>\n",
       "      <td>0</td>\n",
       "      <td>0.64</td>\n",
       "    </tr>\n",
       "  </tbody>\n",
       "</table>\n",
       "<p>5 rows × 74 columns</p>\n",
       "</div>"
      ],
      "text/plain": [
       "                   id                                      listing_url  \\\n",
       "0  607014960957869901  https://www.airbnb.com/rooms/607014960957869901   \n",
       "1             1040492             https://www.airbnb.com/rooms/1040492   \n",
       "2               15420               https://www.airbnb.com/rooms/15420   \n",
       "3               24288               https://www.airbnb.com/rooms/24288   \n",
       "4               38628               https://www.airbnb.com/rooms/38628   \n",
       "\n",
       "        scrape_id last_scraped  \\\n",
       "0  20220610041446   2022-06-10   \n",
       "1  20220610041446   2022-06-10   \n",
       "2  20220610041446   2022-06-10   \n",
       "3  20220610041446   2022-06-10   \n",
       "4  20220610041446   2022-06-10   \n",
       "\n",
       "                                                name  \\\n",
       "0           Beautiful 3 bed family home with hot tub   \n",
       "1            Edinburgh Waterfront Apartments (green)   \n",
       "2                  Georgian Boutique Apt City Centre   \n",
       "3  Cool central Loft, sleeps 4, 2 double bed+en-s...   \n",
       "4                              Edinburgh Holiday Let   \n",
       "\n",
       "                                         description  \\\n",
       "0  Your family will be close to everything when y...   \n",
       "1  <b>The space</b><br />Set in Edinburgh’s fashi...   \n",
       "2  Stunning, impeccably refurbished spacious grou...   \n",
       "3  Upper level of duplex. Boho rustic-chic former...   \n",
       "4  Brunstane - Daiches Braes (close to Portobello...   \n",
       "\n",
       "                               neighborhood_overview  \\\n",
       "0                                                NaN   \n",
       "1                                                NaN   \n",
       "2  The neighbourhood is in the historic New Town,...   \n",
       "3  It's all in the mix: Culture-museums and galle...   \n",
       "4                  Quiet and easy access to outside.   \n",
       "\n",
       "                                         picture_url    host_id  \\\n",
       "0  https://a0.muscache.com/pictures/22ba6932-11e6...  454666979   \n",
       "1  https://a0.muscache.com/pictures/18975884/b655...    1297674   \n",
       "2  https://a0.muscache.com/pictures/cf69631f-4194...      60423   \n",
       "3  https://a0.muscache.com/pictures/3460007/88731...      46498   \n",
       "4  https://a0.muscache.com/pictures/d9885120-178e...     165635   \n",
       "\n",
       "                                      host_url  ...  \\\n",
       "0  https://www.airbnb.com/users/show/454666979  ...   \n",
       "1    https://www.airbnb.com/users/show/1297674  ...   \n",
       "2      https://www.airbnb.com/users/show/60423  ...   \n",
       "3      https://www.airbnb.com/users/show/46498  ...   \n",
       "4     https://www.airbnb.com/users/show/165635  ...   \n",
       "\n",
       "  review_scores_communication review_scores_location review_scores_value  \\\n",
       "0                         NaN                    NaN                 NaN   \n",
       "1                        4.90                   4.64                4.70   \n",
       "2                        4.98                   4.98                4.90   \n",
       "3                        4.89                   4.85                4.60   \n",
       "4                        4.80                   4.73                4.75   \n",
       "\n",
       "  license instant_bookable calculated_host_listings_count  \\\n",
       "0     NaN                t                              1   \n",
       "1     NaN                t                              3   \n",
       "2     NaN                f                              1   \n",
       "3     NaN                t                              1   \n",
       "4     NaN                f                              2   \n",
       "\n",
       "  calculated_host_listings_count_entire_homes  \\\n",
       "0                                           1   \n",
       "1                                           3   \n",
       "2                                           1   \n",
       "3                                           1   \n",
       "4                                           2   \n",
       "\n",
       "  calculated_host_listings_count_private_rooms  \\\n",
       "0                                            0   \n",
       "1                                            0   \n",
       "2                                            0   \n",
       "3                                            0   \n",
       "4                                            0   \n",
       "\n",
       "  calculated_host_listings_count_shared_rooms reviews_per_month  \n",
       "0                                           0               NaN  \n",
       "1                                           0              0.58  \n",
       "2                                           0              2.95  \n",
       "3                                           0              1.60  \n",
       "4                                           0              0.64  \n",
       "\n",
       "[5 rows x 74 columns]"
      ]
     },
     "execution_count": 3,
     "metadata": {},
     "output_type": "execute_result"
    }
   ],
   "source": [
    "#input data\n",
    "dflisting = pd.read_csv('listings.csv')\n",
    "#have a look at the data\n",
    "dflisting.head(5)"
   ]
  },
  {
   "cell_type": "code",
   "execution_count": 4,
   "id": "b3627ba5",
   "metadata": {},
   "outputs": [
    {
     "data": {
      "text/plain": [
       "(6767, 74)"
      ]
     },
     "execution_count": 4,
     "metadata": {},
     "output_type": "execute_result"
    }
   ],
   "source": [
    "#check the number of rows and columns\n",
    "dflisting.shape"
   ]
  },
  {
   "cell_type": "code",
   "execution_count": 5,
   "id": "4c420bd8",
   "metadata": {},
   "outputs": [
    {
     "name": "stdout",
     "output_type": "stream",
     "text": [
      "<class 'pandas.core.frame.DataFrame'>\n",
      "RangeIndex: 6767 entries, 0 to 6766\n",
      "Data columns (total 74 columns):\n",
      " #   Column                                        Non-Null Count  Dtype  \n",
      "---  ------                                        --------------  -----  \n",
      " 0   id                                            6767 non-null   int64  \n",
      " 1   listing_url                                   6767 non-null   object \n",
      " 2   scrape_id                                     6767 non-null   int64  \n",
      " 3   last_scraped                                  6767 non-null   object \n",
      " 4   name                                          6767 non-null   object \n",
      " 5   description                                   6690 non-null   object \n",
      " 6   neighborhood_overview                         4976 non-null   object \n",
      " 7   picture_url                                   6767 non-null   object \n",
      " 8   host_id                                       6767 non-null   int64  \n",
      " 9   host_url                                      6767 non-null   object \n",
      " 10  host_name                                     6767 non-null   object \n",
      " 11  host_since                                    6767 non-null   object \n",
      " 12  host_location                                 6756 non-null   object \n",
      " 13  host_about                                    4033 non-null   object \n",
      " 14  host_response_time                            5640 non-null   object \n",
      " 15  host_response_rate                            5640 non-null   object \n",
      " 16  host_acceptance_rate                          6022 non-null   object \n",
      " 17  host_is_superhost                             6767 non-null   object \n",
      " 18  host_thumbnail_url                            6767 non-null   object \n",
      " 19  host_picture_url                              6767 non-null   object \n",
      " 20  host_neighbourhood                            3205 non-null   object \n",
      " 21  host_listings_count                           6767 non-null   int64  \n",
      " 22  host_total_listings_count                     6767 non-null   int64  \n",
      " 23  host_verifications                            6767 non-null   object \n",
      " 24  host_has_profile_pic                          6767 non-null   object \n",
      " 25  host_identity_verified                        6767 non-null   object \n",
      " 26  neighbourhood                                 4976 non-null   object \n",
      " 27  neighbourhood_cleansed                        6767 non-null   object \n",
      " 28  neighbourhood_group_cleansed                  0 non-null      float64\n",
      " 29  latitude                                      6767 non-null   float64\n",
      " 30  longitude                                     6767 non-null   float64\n",
      " 31  property_type                                 6767 non-null   object \n",
      " 32  room_type                                     6767 non-null   object \n",
      " 33  accommodates                                  6767 non-null   int64  \n",
      " 34  bathrooms                                     0 non-null      float64\n",
      " 35  bathrooms_text                                6750 non-null   object \n",
      " 36  bedrooms                                      6582 non-null   float64\n",
      " 37  beds                                          6633 non-null   float64\n",
      " 38  amenities                                     6767 non-null   object \n",
      " 39  price                                         6767 non-null   object \n",
      " 40  minimum_nights                                6767 non-null   int64  \n",
      " 41  maximum_nights                                6767 non-null   int64  \n",
      " 42  minimum_minimum_nights                        6767 non-null   int64  \n",
      " 43  maximum_minimum_nights                        6767 non-null   int64  \n",
      " 44  minimum_maximum_nights                        6767 non-null   int64  \n",
      " 45  maximum_maximum_nights                        6767 non-null   int64  \n",
      " 46  minimum_nights_avg_ntm                        6767 non-null   float64\n",
      " 47  maximum_nights_avg_ntm                        6767 non-null   float64\n",
      " 48  calendar_updated                              0 non-null      float64\n",
      " 49  has_availability                              6767 non-null   object \n",
      " 50  availability_30                               6767 non-null   int64  \n",
      " 51  availability_60                               6767 non-null   int64  \n",
      " 52  availability_90                               6767 non-null   int64  \n",
      " 53  availability_365                              6767 non-null   int64  \n",
      " 54  calendar_last_scraped                         6767 non-null   object \n",
      " 55  number_of_reviews                             6767 non-null   int64  \n",
      " 56  number_of_reviews_ltm                         6767 non-null   int64  \n",
      " 57  number_of_reviews_l30d                        6767 non-null   int64  \n",
      " 58  first_review                                  5760 non-null   object \n",
      " 59  last_review                                   5760 non-null   object \n",
      " 60  review_scores_rating                          5760 non-null   float64\n",
      " 61  review_scores_accuracy                        5737 non-null   float64\n",
      " 62  review_scores_cleanliness                     5737 non-null   float64\n",
      " 63  review_scores_checkin                         5737 non-null   float64\n",
      " 64  review_scores_communication                   5737 non-null   float64\n",
      " 65  review_scores_location                        5737 non-null   float64\n",
      " 66  review_scores_value                           5737 non-null   float64\n",
      " 67  license                                       0 non-null      float64\n",
      " 68  instant_bookable                              6767 non-null   object \n",
      " 69  calculated_host_listings_count                6767 non-null   int64  \n",
      " 70  calculated_host_listings_count_entire_homes   6767 non-null   int64  \n",
      " 71  calculated_host_listings_count_private_rooms  6767 non-null   int64  \n",
      " 72  calculated_host_listings_count_shared_rooms   6767 non-null   int64  \n",
      " 73  reviews_per_month                             5760 non-null   float64\n",
      "dtypes: float64(18), int64(23), object(33)\n",
      "memory usage: 3.8+ MB\n"
     ]
    }
   ],
   "source": [
    "#check the data type of each attribute\n",
    "dflisting.info()"
   ]
  },
  {
   "cell_type": "code",
   "execution_count": 6,
   "id": "8c6e4a46",
   "metadata": {},
   "outputs": [
    {
     "data": {
      "text/plain": [
       "id                                                 0\n",
       "listing_url                                        0\n",
       "scrape_id                                          0\n",
       "last_scraped                                       0\n",
       "name                                               0\n",
       "                                                ... \n",
       "calculated_host_listings_count                     0\n",
       "calculated_host_listings_count_entire_homes        0\n",
       "calculated_host_listings_count_private_rooms       0\n",
       "calculated_host_listings_count_shared_rooms        0\n",
       "reviews_per_month                               1007\n",
       "Length: 74, dtype: int64"
      ]
     },
     "execution_count": 6,
     "metadata": {},
     "output_type": "execute_result"
    }
   ],
   "source": [
    "#check lost data\n",
    "dflisting.isnull().sum()"
   ]
  },
  {
   "cell_type": "markdown",
   "id": "db0f2e45",
   "metadata": {},
   "source": [
    "There are 74 columns in this dataset. I will not need all of them, thus I am only keeping the ones I consider important for my analysis and those which are not null."
   ]
  },
  {
   "cell_type": "code",
   "execution_count": 7,
   "id": "ba3196e5",
   "metadata": {},
   "outputs": [],
   "source": [
    "#keep only certain columns\n",
    "dflistingclean = dflisting[['id', 'listing_url', 'name', 'host_response_time',\n",
    "                'host_total_listings_count', 'neighbourhood', 'neighbourhood_cleansed', \n",
    "                'latitude', 'longitude', 'property_type', 'room_type', 'accommodates', \n",
    "                 'bedrooms', 'beds', 'amenities', 'price', 'minimum_nights',\n",
    "                'maximum_nights', 'availability_30', 'reviews_per_month']]"
   ]
  },
  {
   "cell_type": "code",
   "execution_count": 8,
   "id": "f05fc1a9",
   "metadata": {
    "scrolled": true
   },
   "outputs": [
    {
     "data": {
      "text/html": [
       "<div>\n",
       "<style scoped>\n",
       "    .dataframe tbody tr th:only-of-type {\n",
       "        vertical-align: middle;\n",
       "    }\n",
       "\n",
       "    .dataframe tbody tr th {\n",
       "        vertical-align: top;\n",
       "    }\n",
       "\n",
       "    .dataframe thead th {\n",
       "        text-align: right;\n",
       "    }\n",
       "</style>\n",
       "<table border=\"1\" class=\"dataframe\">\n",
       "  <thead>\n",
       "    <tr style=\"text-align: right;\">\n",
       "      <th></th>\n",
       "      <th>id</th>\n",
       "      <th>listing_url</th>\n",
       "      <th>name</th>\n",
       "      <th>host_response_time</th>\n",
       "      <th>host_total_listings_count</th>\n",
       "      <th>neighbourhood</th>\n",
       "      <th>neighbourhood_cleansed</th>\n",
       "      <th>latitude</th>\n",
       "      <th>longitude</th>\n",
       "      <th>property_type</th>\n",
       "      <th>room_type</th>\n",
       "      <th>accommodates</th>\n",
       "      <th>bedrooms</th>\n",
       "      <th>beds</th>\n",
       "      <th>amenities</th>\n",
       "      <th>price</th>\n",
       "      <th>minimum_nights</th>\n",
       "      <th>maximum_nights</th>\n",
       "      <th>reviews_per_month</th>\n",
       "    </tr>\n",
       "  </thead>\n",
       "  <tbody>\n",
       "    <tr>\n",
       "      <th>0</th>\n",
       "      <td>607014960957869901</td>\n",
       "      <td>https://www.airbnb.com/rooms/607014960957869901</td>\n",
       "      <td>Beautiful 3 bed family home with hot tub</td>\n",
       "      <td>within an hour</td>\n",
       "      <td>0</td>\n",
       "      <td>NaN</td>\n",
       "      <td>Jewel, Brunstane and Newcraighall</td>\n",
       "      <td>55.93566</td>\n",
       "      <td>-3.07882</td>\n",
       "      <td>Entire home</td>\n",
       "      <td>Entire home/apt</td>\n",
       "      <td>6</td>\n",
       "      <td>3.0</td>\n",
       "      <td>3.0</td>\n",
       "      <td>[\"BBQ grill\", \"Free dryer \\u2013 In building\",...</td>\n",
       "      <td>$300.00</td>\n",
       "      <td>5</td>\n",
       "      <td>365</td>\n",
       "      <td>NaN</td>\n",
       "    </tr>\n",
       "    <tr>\n",
       "      <th>1</th>\n",
       "      <td>1040492</td>\n",
       "      <td>https://www.airbnb.com/rooms/1040492</td>\n",
       "      <td>Edinburgh Waterfront Apartments (green)</td>\n",
       "      <td>within a few hours</td>\n",
       "      <td>3</td>\n",
       "      <td>NaN</td>\n",
       "      <td>Western Harbour and Leith Docks</td>\n",
       "      <td>55.98879</td>\n",
       "      <td>-3.18733</td>\n",
       "      <td>Entire rental unit</td>\n",
       "      <td>Entire home/apt</td>\n",
       "      <td>6</td>\n",
       "      <td>2.0</td>\n",
       "      <td>4.0</td>\n",
       "      <td>[\"Waterfront\", \"Pack \\u2019n play/Travel crib\"...</td>\n",
       "      <td>$205.00</td>\n",
       "      <td>2</td>\n",
       "      <td>365</td>\n",
       "      <td>0.58</td>\n",
       "    </tr>\n",
       "    <tr>\n",
       "      <th>2</th>\n",
       "      <td>15420</td>\n",
       "      <td>https://www.airbnb.com/rooms/15420</td>\n",
       "      <td>Georgian Boutique Apt City Centre</td>\n",
       "      <td>within an hour</td>\n",
       "      <td>3</td>\n",
       "      <td>Edinburgh, City of Edinburgh, United Kingdom</td>\n",
       "      <td>Old Town, Princes Street and Leith Street</td>\n",
       "      <td>55.95759</td>\n",
       "      <td>-3.18805</td>\n",
       "      <td>Entire rental unit</td>\n",
       "      <td>Entire home/apt</td>\n",
       "      <td>2</td>\n",
       "      <td>1.0</td>\n",
       "      <td>1.0</td>\n",
       "      <td>[\"Pack \\u2019n play/Travel crib\", \"Refrigerato...</td>\n",
       "      <td>$110.00</td>\n",
       "      <td>3</td>\n",
       "      <td>30</td>\n",
       "      <td>2.95</td>\n",
       "    </tr>\n",
       "    <tr>\n",
       "      <th>3</th>\n",
       "      <td>24288</td>\n",
       "      <td>https://www.airbnb.com/rooms/24288</td>\n",
       "      <td>Cool central Loft, sleeps 4, 2 double bed+en-s...</td>\n",
       "      <td>within an hour</td>\n",
       "      <td>1</td>\n",
       "      <td>Edinburgh, EH8 9JW, United Kingdom</td>\n",
       "      <td>Canongate, Southside and Dumbiedykes</td>\n",
       "      <td>55.94383</td>\n",
       "      <td>-3.18445</td>\n",
       "      <td>Entire loft</td>\n",
       "      <td>Entire home/apt</td>\n",
       "      <td>4</td>\n",
       "      <td>2.0</td>\n",
       "      <td>2.0</td>\n",
       "      <td>[\"Refrigerator\", \"Coffee maker\", \"Smoke alarm\"...</td>\n",
       "      <td>$95.00</td>\n",
       "      <td>3</td>\n",
       "      <td>365</td>\n",
       "      <td>1.60</td>\n",
       "    </tr>\n",
       "    <tr>\n",
       "      <th>4</th>\n",
       "      <td>38628</td>\n",
       "      <td>https://www.airbnb.com/rooms/38628</td>\n",
       "      <td>Edinburgh Holiday Let</td>\n",
       "      <td>within a day</td>\n",
       "      <td>2</td>\n",
       "      <td>Edinburgh, City of Edinburgh, United Kingdom</td>\n",
       "      <td>Joppa</td>\n",
       "      <td>55.94215</td>\n",
       "      <td>-3.09640</td>\n",
       "      <td>Entire rental unit</td>\n",
       "      <td>Entire home/apt</td>\n",
       "      <td>2</td>\n",
       "      <td>1.0</td>\n",
       "      <td>2.0</td>\n",
       "      <td>[\"Waterfront\", \"Refrigerator\", \"Coffee maker\",...</td>\n",
       "      <td>$51.00</td>\n",
       "      <td>4</td>\n",
       "      <td>120</td>\n",
       "      <td>0.64</td>\n",
       "    </tr>\n",
       "  </tbody>\n",
       "</table>\n",
       "</div>"
      ],
      "text/plain": [
       "                   id                                      listing_url  \\\n",
       "0  607014960957869901  https://www.airbnb.com/rooms/607014960957869901   \n",
       "1             1040492             https://www.airbnb.com/rooms/1040492   \n",
       "2               15420               https://www.airbnb.com/rooms/15420   \n",
       "3               24288               https://www.airbnb.com/rooms/24288   \n",
       "4               38628               https://www.airbnb.com/rooms/38628   \n",
       "\n",
       "                                                name  host_response_time  \\\n",
       "0           Beautiful 3 bed family home with hot tub      within an hour   \n",
       "1            Edinburgh Waterfront Apartments (green)  within a few hours   \n",
       "2                  Georgian Boutique Apt City Centre      within an hour   \n",
       "3  Cool central Loft, sleeps 4, 2 double bed+en-s...      within an hour   \n",
       "4                              Edinburgh Holiday Let        within a day   \n",
       "\n",
       "   host_total_listings_count                                 neighbourhood  \\\n",
       "0                          0                                           NaN   \n",
       "1                          3                                           NaN   \n",
       "2                          3  Edinburgh, City of Edinburgh, United Kingdom   \n",
       "3                          1            Edinburgh, EH8 9JW, United Kingdom   \n",
       "4                          2  Edinburgh, City of Edinburgh, United Kingdom   \n",
       "\n",
       "                      neighbourhood_cleansed  latitude  longitude  \\\n",
       "0          Jewel, Brunstane and Newcraighall  55.93566   -3.07882   \n",
       "1            Western Harbour and Leith Docks  55.98879   -3.18733   \n",
       "2  Old Town, Princes Street and Leith Street  55.95759   -3.18805   \n",
       "3       Canongate, Southside and Dumbiedykes  55.94383   -3.18445   \n",
       "4                                      Joppa  55.94215   -3.09640   \n",
       "\n",
       "        property_type        room_type  accommodates  bedrooms  beds  \\\n",
       "0         Entire home  Entire home/apt             6       3.0   3.0   \n",
       "1  Entire rental unit  Entire home/apt             6       2.0   4.0   \n",
       "2  Entire rental unit  Entire home/apt             2       1.0   1.0   \n",
       "3         Entire loft  Entire home/apt             4       2.0   2.0   \n",
       "4  Entire rental unit  Entire home/apt             2       1.0   2.0   \n",
       "\n",
       "                                           amenities    price  minimum_nights  \\\n",
       "0  [\"BBQ grill\", \"Free dryer \\u2013 In building\",...  $300.00               5   \n",
       "1  [\"Waterfront\", \"Pack \\u2019n play/Travel crib\"...  $205.00               2   \n",
       "2  [\"Pack \\u2019n play/Travel crib\", \"Refrigerato...  $110.00               3   \n",
       "3  [\"Refrigerator\", \"Coffee maker\", \"Smoke alarm\"...   $95.00               3   \n",
       "4  [\"Waterfront\", \"Refrigerator\", \"Coffee maker\",...   $51.00               4   \n",
       "\n",
       "   maximum_nights  reviews_per_month  \n",
       "0             365                NaN  \n",
       "1             365               0.58  \n",
       "2              30               2.95  \n",
       "3             365               1.60  \n",
       "4             120               0.64  "
      ]
     },
     "execution_count": 8,
     "metadata": {},
     "output_type": "execute_result"
    }
   ],
   "source": [
    "dflistingclean.head(5)"
   ]
  },
  {
   "cell_type": "code",
   "execution_count": 9,
   "id": "ef1541b7",
   "metadata": {},
   "outputs": [
    {
     "data": {
      "text/plain": [
       "(19,)"
      ]
     },
     "execution_count": 9,
     "metadata": {},
     "output_type": "execute_result"
    }
   ],
   "source": [
    "#check shape of dataframe columns \n",
    "dflistingclean.columns.shape"
   ]
  },
  {
   "cell_type": "code",
   "execution_count": 10,
   "id": "1b46bafe",
   "metadata": {},
   "outputs": [
    {
     "name": "stderr",
     "output_type": "stream",
     "text": [
      "C:\\Users\\User\\anaconda3\\lib\\site-packages\\pandas\\core\\series.py:4463: SettingWithCopyWarning: \n",
      "A value is trying to be set on a copy of a slice from a DataFrame\n",
      "\n",
      "See the caveats in the documentation: https://pandas.pydata.org/pandas-docs/stable/user_guide/indexing.html#returning-a-view-versus-a-copy\n",
      "  return super().fillna(\n"
     ]
    }
   ],
   "source": [
    "#fill empty rows with 0\n",
    "dflistingclean['reviews_per_month'].fillna(0, inplace=True)"
   ]
  },
  {
   "cell_type": "code",
   "execution_count": 11,
   "id": "ba6ee7dd",
   "metadata": {},
   "outputs": [],
   "source": [
    "#save dataframe to csv file\n",
    "dflistingclean.to_csv('listing_cleansed.csv', index=False)"
   ]
  },
  {
   "cell_type": "markdown",
   "id": "5afa2926",
   "metadata": {},
   "source": [
    "### 2. Calendar "
   ]
  },
  {
   "cell_type": "markdown",
   "id": "2aa1e39b",
   "metadata": {},
   "source": [
    "This data is published in: http://insideairbnb.com/get-the-data/"
   ]
  },
  {
   "cell_type": "markdown",
   "id": "c1ee9256",
   "metadata": {},
   "source": [
    "Read the four calendar files"
   ]
  },
  {
   "cell_type": "code",
   "execution_count": 12,
   "id": "258feec1",
   "metadata": {},
   "outputs": [],
   "source": [
    "#change directory\n",
    "os.chdir('C:\\\\Users\\\\User\\\\Desktop\\\\airbnb_data\\\\calendar_files')"
   ]
  },
  {
   "cell_type": "code",
   "execution_count": 13,
   "id": "bf7a6b6d",
   "metadata": {},
   "outputs": [
    {
     "data": {
      "text/plain": [
       "15807785"
      ]
     },
     "execution_count": 13,
     "metadata": {},
     "output_type": "execute_result"
    }
   ],
   "source": [
    "#open first calendar file and check size\n",
    "calendar202109 = pd.read_csv(\"calendar-202109.csv\") \n",
    "calendar202109.size"
   ]
  },
  {
   "cell_type": "code",
   "execution_count": 14,
   "id": "6ced9b04",
   "metadata": {},
   "outputs": [
    {
     "data": {
      "text/plain": [
       "15621270"
      ]
     },
     "execution_count": 14,
     "metadata": {},
     "output_type": "execute_result"
    }
   ],
   "source": [
    "#open second calendar file and check size\n",
    "calendar202112 = pd.read_csv(\"calendar-202112.csv\")\n",
    "calendar202112.size"
   ]
  },
  {
   "cell_type": "code",
   "execution_count": 15,
   "id": "5093d261",
   "metadata": {},
   "outputs": [
    {
     "data": {
      "text/plain": [
       "15741292"
      ]
     },
     "execution_count": 15,
     "metadata": {},
     "output_type": "execute_result"
    }
   ],
   "source": [
    "#open third calendar file and check size\n",
    "calendar202203 = pd.read_csv(\"calendar-202203.csv\")\n",
    "calendar202203.size"
   ]
  },
  {
   "cell_type": "code",
   "execution_count": 16,
   "id": "ca48d439",
   "metadata": {},
   "outputs": [
    {
     "data": {
      "text/plain": [
       "17289685"
      ]
     },
     "execution_count": 16,
     "metadata": {},
     "output_type": "execute_result"
    }
   ],
   "source": [
    "#open fourth calendar file and check size\n",
    "calendar202206 = pd.read_csv(\"calendar-202206.csv\")\n",
    "calendar202206.size"
   ]
  },
  {
   "cell_type": "markdown",
   "id": "12d99fdb",
   "metadata": {},
   "source": [
    "At this point I want to check whether calendar files are within specific date range"
   ]
  },
  {
   "cell_type": "code",
   "execution_count": 17,
   "id": "4714c673",
   "metadata": {
    "scrolled": false
   },
   "outputs": [
    {
     "data": {
      "text/plain": [
       "True"
      ]
     },
     "execution_count": 17,
     "metadata": {},
     "output_type": "execute_result"
    }
   ],
   "source": [
    "#change datatype of date column and check dates\n",
    "calendar202109['date']= calendar202109['date'].astype('datetime64[ns]')\n",
    "a = calendar202109['date'].dt.date.unique()\n",
    "((a > pd.Timestamp('2021-09-01')) & (a < pd.Timestamp('2022-09-30'))).all()"
   ]
  },
  {
   "cell_type": "code",
   "execution_count": 18,
   "id": "4b2307df",
   "metadata": {
    "scrolled": false
   },
   "outputs": [
    {
     "data": {
      "text/plain": [
       "True"
      ]
     },
     "execution_count": 18,
     "metadata": {},
     "output_type": "execute_result"
    }
   ],
   "source": [
    "#change datatype of date column and check dates\n",
    "calendar202112['date']= calendar202112['date'].astype('datetime64[ns]')\n",
    "b = calendar202112['date'].dt.date.unique()\n",
    "((b > pd.Timestamp('2021-12-01')) & (b < pd.Timestamp('2022-12-31'))).all()"
   ]
  },
  {
   "cell_type": "code",
   "execution_count": 19,
   "id": "2f21b67f",
   "metadata": {},
   "outputs": [
    {
     "data": {
      "text/plain": [
       "True"
      ]
     },
     "execution_count": 19,
     "metadata": {},
     "output_type": "execute_result"
    }
   ],
   "source": [
    "#change datatype of date column and check dates\n",
    "calendar202203['date']= calendar202203['date'].astype('datetime64[ns]')\n",
    "c = calendar202203['date'].dt.date.unique()\n",
    "((c > pd.Timestamp('2022-03-01')) & (c < pd.Timestamp('2023-03-31'))).all()"
   ]
  },
  {
   "cell_type": "code",
   "execution_count": 20,
   "id": "9876ecb8",
   "metadata": {
    "scrolled": false
   },
   "outputs": [
    {
     "data": {
      "text/plain": [
       "True"
      ]
     },
     "execution_count": 20,
     "metadata": {},
     "output_type": "execute_result"
    }
   ],
   "source": [
    "#change datatype of date column and check dates\n",
    "calendar202206['date']= calendar202206['date'].astype('datetime64[ns]')\n",
    "d = calendar202206['date'].dt.date.unique()\n",
    "((d > pd.Timestamp('2022-06-01')) & (d < pd.Timestamp('2023-06-30'))).all()"
   ]
  },
  {
   "cell_type": "markdown",
   "id": "ddcef13e",
   "metadata": {},
   "source": [
    "After checking the data, I will compile all the files"
   ]
  },
  {
   "cell_type": "code",
   "execution_count": 21,
   "id": "45c1399b",
   "metadata": {
    "scrolled": true
   },
   "outputs": [],
   "source": [
    "#setting the path for joining multiple files\n",
    "files = os.path.join( \"*.csv\")\n",
    "\n",
    "#return list of merged files\n",
    "files = glob.glob(files)\n",
    "\n",
    "#joining files with concat and read_csv\n",
    "dfcalendar = pd.concat(map(pd.read_csv, files), ignore_index=True)"
   ]
  },
  {
   "cell_type": "code",
   "execution_count": 22,
   "id": "843d1fbb",
   "metadata": {},
   "outputs": [
    {
     "name": "stdout",
     "output_type": "stream",
     "text": [
      "<class 'pandas.core.frame.DataFrame'>\n",
      "RangeIndex: 9208576 entries, 0 to 9208575\n",
      "Data columns (total 7 columns):\n",
      " #   Column          Dtype  \n",
      "---  ------          -----  \n",
      " 0   listing_id      int64  \n",
      " 1   date            object \n",
      " 2   available       object \n",
      " 3   price           object \n",
      " 4   adjusted_price  object \n",
      " 5   minimum_nights  float64\n",
      " 6   maximum_nights  float64\n",
      "dtypes: float64(2), int64(1), object(4)\n",
      "memory usage: 491.8+ MB\n"
     ]
    }
   ],
   "source": [
    "#check columns and rows\n",
    "dfcalendar.info()"
   ]
  },
  {
   "cell_type": "code",
   "execution_count": 23,
   "id": "d72efb53",
   "metadata": {
    "scrolled": true
   },
   "outputs": [
    {
     "data": {
      "text/html": [
       "<div>\n",
       "<style scoped>\n",
       "    .dataframe tbody tr th:only-of-type {\n",
       "        vertical-align: middle;\n",
       "    }\n",
       "\n",
       "    .dataframe tbody tr th {\n",
       "        vertical-align: top;\n",
       "    }\n",
       "\n",
       "    .dataframe thead th {\n",
       "        text-align: right;\n",
       "    }\n",
       "</style>\n",
       "<table border=\"1\" class=\"dataframe\">\n",
       "  <thead>\n",
       "    <tr style=\"text-align: right;\">\n",
       "      <th></th>\n",
       "      <th>listing_id</th>\n",
       "      <th>date</th>\n",
       "      <th>available</th>\n",
       "      <th>price</th>\n",
       "      <th>adjusted_price</th>\n",
       "      <th>minimum_nights</th>\n",
       "      <th>maximum_nights</th>\n",
       "    </tr>\n",
       "  </thead>\n",
       "  <tbody>\n",
       "    <tr>\n",
       "      <th>0</th>\n",
       "      <td>15420</td>\n",
       "      <td>2021-09-16</td>\n",
       "      <td>f</td>\n",
       "      <td>$100.00</td>\n",
       "      <td>$100.00</td>\n",
       "      <td>3.0</td>\n",
       "      <td>30.0</td>\n",
       "    </tr>\n",
       "    <tr>\n",
       "      <th>1</th>\n",
       "      <td>93904</td>\n",
       "      <td>2021-09-16</td>\n",
       "      <td>f</td>\n",
       "      <td>$55.00</td>\n",
       "      <td>$55.00</td>\n",
       "      <td>1.0</td>\n",
       "      <td>31.0</td>\n",
       "    </tr>\n",
       "    <tr>\n",
       "      <th>2</th>\n",
       "      <td>93904</td>\n",
       "      <td>2021-09-17</td>\n",
       "      <td>f</td>\n",
       "      <td>$55.00</td>\n",
       "      <td>$55.00</td>\n",
       "      <td>1.0</td>\n",
       "      <td>31.0</td>\n",
       "    </tr>\n",
       "    <tr>\n",
       "      <th>3</th>\n",
       "      <td>93904</td>\n",
       "      <td>2021-09-18</td>\n",
       "      <td>f</td>\n",
       "      <td>$55.00</td>\n",
       "      <td>$55.00</td>\n",
       "      <td>1.0</td>\n",
       "      <td>31.0</td>\n",
       "    </tr>\n",
       "    <tr>\n",
       "      <th>4</th>\n",
       "      <td>93904</td>\n",
       "      <td>2021-09-19</td>\n",
       "      <td>f</td>\n",
       "      <td>$55.00</td>\n",
       "      <td>$55.00</td>\n",
       "      <td>1.0</td>\n",
       "      <td>31.0</td>\n",
       "    </tr>\n",
       "  </tbody>\n",
       "</table>\n",
       "</div>"
      ],
      "text/plain": [
       "   listing_id        date available    price adjusted_price  minimum_nights  \\\n",
       "0       15420  2021-09-16         f  $100.00        $100.00             3.0   \n",
       "1       93904  2021-09-16         f   $55.00         $55.00             1.0   \n",
       "2       93904  2021-09-17         f   $55.00         $55.00             1.0   \n",
       "3       93904  2021-09-18         f   $55.00         $55.00             1.0   \n",
       "4       93904  2021-09-19         f   $55.00         $55.00             1.0   \n",
       "\n",
       "   maximum_nights  \n",
       "0            30.0  \n",
       "1            31.0  \n",
       "2            31.0  \n",
       "3            31.0  \n",
       "4            31.0  "
      ]
     },
     "execution_count": 23,
     "metadata": {},
     "output_type": "execute_result"
    }
   ],
   "source": [
    "#view first 5 rows of dataframe \n",
    "dfcalendar.head(5)"
   ]
  },
  {
   "cell_type": "code",
   "execution_count": 24,
   "id": "ab172094",
   "metadata": {},
   "outputs": [
    {
     "data": {
      "text/plain": [
       "listing_id        0\n",
       "date              0\n",
       "available         0\n",
       "price             0\n",
       "adjusted_price    0\n",
       "minimum_nights    2\n",
       "maximum_nights    2\n",
       "dtype: int64"
      ]
     },
     "execution_count": 24,
     "metadata": {},
     "output_type": "execute_result"
    }
   ],
   "source": [
    "#check lost data\n",
    "dfcalendar.isnull().sum()"
   ]
  },
  {
   "cell_type": "markdown",
   "id": "9c77a537",
   "metadata": {},
   "source": [
    "There are 2 rows in two columns which are null"
   ]
  },
  {
   "cell_type": "code",
   "execution_count": 25,
   "id": "cf027a4e",
   "metadata": {
    "scrolled": true
   },
   "outputs": [
    {
     "data": {
      "text/html": [
       "<div>\n",
       "<style scoped>\n",
       "    .dataframe tbody tr th:only-of-type {\n",
       "        vertical-align: middle;\n",
       "    }\n",
       "\n",
       "    .dataframe tbody tr th {\n",
       "        vertical-align: top;\n",
       "    }\n",
       "\n",
       "    .dataframe thead th {\n",
       "        text-align: right;\n",
       "    }\n",
       "</style>\n",
       "<table border=\"1\" class=\"dataframe\">\n",
       "  <thead>\n",
       "    <tr style=\"text-align: right;\">\n",
       "      <th></th>\n",
       "      <th>listing_id</th>\n",
       "      <th>date</th>\n",
       "      <th>available</th>\n",
       "      <th>price</th>\n",
       "      <th>adjusted_price</th>\n",
       "      <th>minimum_nights</th>\n",
       "      <th>maximum_nights</th>\n",
       "    </tr>\n",
       "  </thead>\n",
       "  <tbody>\n",
       "    <tr>\n",
       "      <th>2797148</th>\n",
       "      <td>14041276</td>\n",
       "      <td>2021-12-12</td>\n",
       "      <td>f</td>\n",
       "      <td>$139.00</td>\n",
       "      <td>$139.00</td>\n",
       "      <td>NaN</td>\n",
       "      <td>NaN</td>\n",
       "    </tr>\n",
       "    <tr>\n",
       "      <th>2872109</th>\n",
       "      <td>16342332</td>\n",
       "      <td>2021-12-12</td>\n",
       "      <td>f</td>\n",
       "      <td>$66.00</td>\n",
       "      <td>$66.00</td>\n",
       "      <td>NaN</td>\n",
       "      <td>NaN</td>\n",
       "    </tr>\n",
       "  </tbody>\n",
       "</table>\n",
       "</div>"
      ],
      "text/plain": [
       "         listing_id        date available    price adjusted_price  \\\n",
       "2797148    14041276  2021-12-12         f  $139.00        $139.00   \n",
       "2872109    16342332  2021-12-12         f   $66.00         $66.00   \n",
       "\n",
       "         minimum_nights  maximum_nights  \n",
       "2797148             NaN             NaN  \n",
       "2872109             NaN             NaN  "
      ]
     },
     "execution_count": 25,
     "metadata": {},
     "output_type": "execute_result"
    }
   ],
   "source": [
    "#check which rows are null\n",
    "dfcalendar[dfcalendar['minimum_nights'].isna()]"
   ]
  },
  {
   "cell_type": "code",
   "execution_count": 26,
   "id": "a5df5977",
   "metadata": {},
   "outputs": [
    {
     "data": {
      "text/html": [
       "<div>\n",
       "<style scoped>\n",
       "    .dataframe tbody tr th:only-of-type {\n",
       "        vertical-align: middle;\n",
       "    }\n",
       "\n",
       "    .dataframe tbody tr th {\n",
       "        vertical-align: top;\n",
       "    }\n",
       "\n",
       "    .dataframe thead th {\n",
       "        text-align: right;\n",
       "    }\n",
       "</style>\n",
       "<table border=\"1\" class=\"dataframe\">\n",
       "  <thead>\n",
       "    <tr style=\"text-align: right;\">\n",
       "      <th></th>\n",
       "      <th>listing_id</th>\n",
       "      <th>date</th>\n",
       "      <th>available</th>\n",
       "      <th>price</th>\n",
       "      <th>adjusted_price</th>\n",
       "      <th>minimum_nights</th>\n",
       "      <th>maximum_nights</th>\n",
       "    </tr>\n",
       "  </thead>\n",
       "  <tbody>\n",
       "    <tr>\n",
       "      <th>530314</th>\n",
       "      <td>14041276</td>\n",
       "      <td>2021-12-12</td>\n",
       "      <td>t</td>\n",
       "      <td>$119.00</td>\n",
       "      <td>$119.00</td>\n",
       "      <td>2.0</td>\n",
       "      <td>1125.0</td>\n",
       "    </tr>\n",
       "    <tr>\n",
       "      <th>2797148</th>\n",
       "      <td>14041276</td>\n",
       "      <td>2021-12-12</td>\n",
       "      <td>f</td>\n",
       "      <td>$139.00</td>\n",
       "      <td>$139.00</td>\n",
       "      <td>NaN</td>\n",
       "      <td>NaN</td>\n",
       "    </tr>\n",
       "  </tbody>\n",
       "</table>\n",
       "</div>"
      ],
      "text/plain": [
       "         listing_id        date available    price adjusted_price  \\\n",
       "530314     14041276  2021-12-12         t  $119.00        $119.00   \n",
       "2797148    14041276  2021-12-12         f  $139.00        $139.00   \n",
       "\n",
       "         minimum_nights  maximum_nights  \n",
       "530314              2.0          1125.0  \n",
       "2797148             NaN             NaN  "
      ]
     },
     "execution_count": 26,
     "metadata": {},
     "output_type": "execute_result"
    }
   ],
   "source": [
    "#find first the row\n",
    "dfcalendar.loc[(dfcalendar['listing_id'] == 14041276) & (dfcalendar['date'] == '2021-12-12')]"
   ]
  },
  {
   "cell_type": "code",
   "execution_count": 27,
   "id": "dbd6a489",
   "metadata": {
    "scrolled": true
   },
   "outputs": [
    {
     "data": {
      "text/html": [
       "<div>\n",
       "<style scoped>\n",
       "    .dataframe tbody tr th:only-of-type {\n",
       "        vertical-align: middle;\n",
       "    }\n",
       "\n",
       "    .dataframe tbody tr th {\n",
       "        vertical-align: top;\n",
       "    }\n",
       "\n",
       "    .dataframe thead th {\n",
       "        text-align: right;\n",
       "    }\n",
       "</style>\n",
       "<table border=\"1\" class=\"dataframe\">\n",
       "  <thead>\n",
       "    <tr style=\"text-align: right;\">\n",
       "      <th></th>\n",
       "      <th>listing_id</th>\n",
       "      <th>date</th>\n",
       "      <th>available</th>\n",
       "      <th>price</th>\n",
       "      <th>adjusted_price</th>\n",
       "      <th>minimum_nights</th>\n",
       "      <th>maximum_nights</th>\n",
       "    </tr>\n",
       "  </thead>\n",
       "  <tbody>\n",
       "    <tr>\n",
       "      <th>623483</th>\n",
       "      <td>16342332</td>\n",
       "      <td>2021-12-12</td>\n",
       "      <td>t</td>\n",
       "      <td>$79.00</td>\n",
       "      <td>$79.00</td>\n",
       "      <td>2.0</td>\n",
       "      <td>1125.0</td>\n",
       "    </tr>\n",
       "    <tr>\n",
       "      <th>2872109</th>\n",
       "      <td>16342332</td>\n",
       "      <td>2021-12-12</td>\n",
       "      <td>f</td>\n",
       "      <td>$66.00</td>\n",
       "      <td>$66.00</td>\n",
       "      <td>NaN</td>\n",
       "      <td>NaN</td>\n",
       "    </tr>\n",
       "  </tbody>\n",
       "</table>\n",
       "</div>"
      ],
      "text/plain": [
       "         listing_id        date available   price adjusted_price  \\\n",
       "623483     16342332  2021-12-12         t  $79.00         $79.00   \n",
       "2872109    16342332  2021-12-12         f  $66.00         $66.00   \n",
       "\n",
       "         minimum_nights  maximum_nights  \n",
       "623483              2.0          1125.0  \n",
       "2872109             NaN             NaN  "
      ]
     },
     "execution_count": 27,
     "metadata": {},
     "output_type": "execute_result"
    }
   ],
   "source": [
    "#find second the row\n",
    "dfcalendar.loc[(dfcalendar['listing_id'] == 16342332) & (dfcalendar['date'] == '2021-12-12')]"
   ]
  },
  {
   "cell_type": "markdown",
   "id": "617ecda6",
   "metadata": {},
   "source": [
    "There are two rows with null values that are duplicates"
   ]
  },
  {
   "cell_type": "code",
   "execution_count": 28,
   "id": "9db5d6e8",
   "metadata": {},
   "outputs": [],
   "source": [
    "#drop null rows\n",
    "dfcalendar = dfcalendar.dropna()"
   ]
  },
  {
   "cell_type": "code",
   "execution_count": 29,
   "id": "bc47bd63",
   "metadata": {
    "scrolled": true
   },
   "outputs": [],
   "source": [
    "#drop adjusted_price column\n",
    "dfcalendar = dfcalendar.drop(['adjusted_price'], axis=1) "
   ]
  },
  {
   "cell_type": "code",
   "execution_count": 30,
   "id": "e28cca46",
   "metadata": {
    "scrolled": true
   },
   "outputs": [
    {
     "data": {
      "text/html": [
       "<div>\n",
       "<style scoped>\n",
       "    .dataframe tbody tr th:only-of-type {\n",
       "        vertical-align: middle;\n",
       "    }\n",
       "\n",
       "    .dataframe tbody tr th {\n",
       "        vertical-align: top;\n",
       "    }\n",
       "\n",
       "    .dataframe thead th {\n",
       "        text-align: right;\n",
       "    }\n",
       "</style>\n",
       "<table border=\"1\" class=\"dataframe\">\n",
       "  <thead>\n",
       "    <tr style=\"text-align: right;\">\n",
       "      <th></th>\n",
       "      <th>listing_id</th>\n",
       "      <th>date</th>\n",
       "      <th>available</th>\n",
       "      <th>price</th>\n",
       "      <th>minimum_nights</th>\n",
       "      <th>maximum_nights</th>\n",
       "    </tr>\n",
       "  </thead>\n",
       "  <tbody>\n",
       "    <tr>\n",
       "      <th>0</th>\n",
       "      <td>15420</td>\n",
       "      <td>2021-09-16</td>\n",
       "      <td>f</td>\n",
       "      <td>$100.00</td>\n",
       "      <td>3</td>\n",
       "      <td>30</td>\n",
       "    </tr>\n",
       "    <tr>\n",
       "      <th>1</th>\n",
       "      <td>93904</td>\n",
       "      <td>2021-09-16</td>\n",
       "      <td>f</td>\n",
       "      <td>$55.00</td>\n",
       "      <td>1</td>\n",
       "      <td>31</td>\n",
       "    </tr>\n",
       "    <tr>\n",
       "      <th>2</th>\n",
       "      <td>93904</td>\n",
       "      <td>2021-09-17</td>\n",
       "      <td>f</td>\n",
       "      <td>$55.00</td>\n",
       "      <td>1</td>\n",
       "      <td>31</td>\n",
       "    </tr>\n",
       "    <tr>\n",
       "      <th>3</th>\n",
       "      <td>93904</td>\n",
       "      <td>2021-09-18</td>\n",
       "      <td>f</td>\n",
       "      <td>$55.00</td>\n",
       "      <td>1</td>\n",
       "      <td>31</td>\n",
       "    </tr>\n",
       "    <tr>\n",
       "      <th>4</th>\n",
       "      <td>93904</td>\n",
       "      <td>2021-09-19</td>\n",
       "      <td>f</td>\n",
       "      <td>$55.00</td>\n",
       "      <td>1</td>\n",
       "      <td>31</td>\n",
       "    </tr>\n",
       "  </tbody>\n",
       "</table>\n",
       "</div>"
      ],
      "text/plain": [
       "   listing_id       date available    price  minimum_nights  maximum_nights\n",
       "0       15420 2021-09-16         f  $100.00               3              30\n",
       "1       93904 2021-09-16         f   $55.00               1              31\n",
       "2       93904 2021-09-17         f   $55.00               1              31\n",
       "3       93904 2021-09-18         f   $55.00               1              31\n",
       "4       93904 2021-09-19         f   $55.00               1              31"
      ]
     },
     "execution_count": 30,
     "metadata": {},
     "output_type": "execute_result"
    }
   ],
   "source": [
    "#change datatypes of columns\n",
    "dfcalendar['listing_id'] = dfcalendar['listing_id'].astype(int)\n",
    "dfcalendar['minimum_nights'] = dfcalendar['minimum_nights'].astype(int)\n",
    "dfcalendar['maximum_nights'] = dfcalendar['maximum_nights'].astype(int)\n",
    "dfcalendar['date']= dfcalendar['date'].astype('datetime64[ns]')\n",
    "dfcalendar.head(5)"
   ]
  },
  {
   "cell_type": "code",
   "execution_count": 31,
   "id": "21b9b921",
   "metadata": {},
   "outputs": [],
   "source": [
    "#remove duplicates based on two columns\n",
    "dfcalendar = dfcalendar.drop_duplicates(\n",
    "  subset = ['listing_id', 'date'],\n",
    "  keep = 'last').reset_index(drop = True)"
   ]
  },
  {
   "cell_type": "code",
   "execution_count": 32,
   "id": "2a18e686",
   "metadata": {},
   "outputs": [
    {
     "data": {
      "text/plain": [
       "array(['$100.00', '$55.00', '$50.00', ..., '$1,950.00', '$20,000.00',\n",
       "       '$6,784.00'], dtype=object)"
      ]
     },
     "execution_count": 32,
     "metadata": {},
     "output_type": "execute_result"
    }
   ],
   "source": [
    " #check format of price numbers\n",
    "dfcalendar['price'].unique()   "
   ]
  },
  {
   "cell_type": "markdown",
   "id": "5b09b650",
   "metadata": {},
   "source": [
    "Price column has dollar symbols and commas"
   ]
  },
  {
   "cell_type": "code",
   "execution_count": 33,
   "id": "062f0e20",
   "metadata": {},
   "outputs": [],
   "source": [
    "#remove dollar symbol and comma from rows of price column\n",
    "dfcalendar['price'] = dfcalendar['price'].replace({'\\$': '', ',': ''}, regex=True).astype(float)"
   ]
  },
  {
   "cell_type": "code",
   "execution_count": 34,
   "id": "15d0abe5",
   "metadata": {
    "scrolled": true
   },
   "outputs": [
    {
     "name": "stdout",
     "output_type": "stream",
     "text": [
      "[  100.    55.    50. ...  1950. 20000.  6784.]\n"
     ]
    }
   ],
   "source": [
    "#check format of price numbers again\n",
    "print(dfcalendar['price'].unique())"
   ]
  },
  {
   "cell_type": "code",
   "execution_count": 35,
   "id": "bfaaae51",
   "metadata": {
    "scrolled": true
   },
   "outputs": [
    {
     "data": {
      "text/plain": [
       "8415"
      ]
     },
     "execution_count": 35,
     "metadata": {},
     "output_type": "execute_result"
    }
   ],
   "source": [
    "#number of accommodations based on ids\n",
    "dfcalendar['listing_id'].nunique()"
   ]
  },
  {
   "cell_type": "markdown",
   "id": "734e1c8d",
   "metadata": {},
   "source": [
    "The dataframe with all the calendar data contains 8415 unique listings"
   ]
  },
  {
   "cell_type": "code",
   "execution_count": 36,
   "id": "ad1e3581",
   "metadata": {},
   "outputs": [],
   "source": [
    "#save dataframe to csv file\n",
    "dfcalendar.to_csv('all_calendar_data.csv', index=False)"
   ]
  },
  {
   "cell_type": "markdown",
   "id": "3a6c4c6f",
   "metadata": {},
   "source": [
    "### 3. Broader areas"
   ]
  },
  {
   "cell_type": "markdown",
   "id": "21491ffe",
   "metadata": {},
   "source": [
    "This data is published in: https://statistics.gov.scot/atlas/resource?uri=http%3A%2F%2Fstatistics.gov.scot%2Fid%2Fstatistical-geography%2FS12000036"
   ]
  },
  {
   "cell_type": "markdown",
   "id": "39a558ff",
   "metadata": {},
   "source": [
    "Concatenate the neighbourhood files "
   ]
  },
  {
   "cell_type": "code",
   "execution_count": 37,
   "id": "57fec876",
   "metadata": {},
   "outputs": [],
   "source": [
    "#change directory one last time\n",
    "os.chdir('C:\\\\Users\\\\User\\\\Desktop\\\\airbnb_data\\\\broader_areas')"
   ]
  },
  {
   "cell_type": "code",
   "execution_count": 38,
   "id": "91336434",
   "metadata": {},
   "outputs": [],
   "source": [
    "#setting the path for joining multiple files\n",
    "files = os.path.join( \"*.csv\")\n",
    "\n",
    "#list of merged files returned\n",
    "files = glob.glob(files)\n",
    "\n",
    "#joining files with concat and read_csv\n",
    "dfareas = pd.concat(map(pd.read_csv, files), ignore_index=True)"
   ]
  },
  {
   "cell_type": "code",
   "execution_count": 39,
   "id": "6721ecb9",
   "metadata": {},
   "outputs": [
    {
     "data": {
      "text/html": [
       "<div>\n",
       "<style scoped>\n",
       "    .dataframe tbody tr th:only-of-type {\n",
       "        vertical-align: middle;\n",
       "    }\n",
       "\n",
       "    .dataframe tbody tr th {\n",
       "        vertical-align: top;\n",
       "    }\n",
       "\n",
       "    .dataframe thead th {\n",
       "        text-align: right;\n",
       "    }\n",
       "</style>\n",
       "<table border=\"1\" class=\"dataframe\">\n",
       "  <thead>\n",
       "    <tr style=\"text-align: right;\">\n",
       "      <th></th>\n",
       "      <th>Feature Identifier</th>\n",
       "      <th>Feature_Name</th>\n",
       "      <th>Electoral_Ward</th>\n",
       "    </tr>\n",
       "  </thead>\n",
       "  <tbody>\n",
       "    <tr>\n",
       "      <th>0</th>\n",
       "      <td>http://statistics.gov.scot/id/statistical-geog...</td>\n",
       "      <td>Granton West and Salvesen - 05</td>\n",
       "      <td>Almond</td>\n",
       "    </tr>\n",
       "    <tr>\n",
       "      <th>1</th>\n",
       "      <td>http://statistics.gov.scot/id/statistical-geog...</td>\n",
       "      <td>Muirhouse - 01</td>\n",
       "      <td>Almond</td>\n",
       "    </tr>\n",
       "    <tr>\n",
       "      <th>2</th>\n",
       "      <td>http://statistics.gov.scot/id/statistical-geog...</td>\n",
       "      <td>Muirhouse - 02</td>\n",
       "      <td>Almond</td>\n",
       "    </tr>\n",
       "    <tr>\n",
       "      <th>3</th>\n",
       "      <td>http://statistics.gov.scot/id/statistical-geog...</td>\n",
       "      <td>Muirhouse - 03</td>\n",
       "      <td>Almond</td>\n",
       "    </tr>\n",
       "    <tr>\n",
       "      <th>4</th>\n",
       "      <td>http://statistics.gov.scot/id/statistical-geog...</td>\n",
       "      <td>Muirhouse - 04</td>\n",
       "      <td>Almond</td>\n",
       "    </tr>\n",
       "  </tbody>\n",
       "</table>\n",
       "</div>"
      ],
      "text/plain": [
       "                                  Feature Identifier  \\\n",
       "0  http://statistics.gov.scot/id/statistical-geog...   \n",
       "1  http://statistics.gov.scot/id/statistical-geog...   \n",
       "2  http://statistics.gov.scot/id/statistical-geog...   \n",
       "3  http://statistics.gov.scot/id/statistical-geog...   \n",
       "4  http://statistics.gov.scot/id/statistical-geog...   \n",
       "\n",
       "                     Feature_Name Electoral_Ward  \n",
       "0  Granton West and Salvesen - 05         Almond  \n",
       "1                  Muirhouse - 01         Almond  \n",
       "2                  Muirhouse - 02         Almond  \n",
       "3                  Muirhouse - 03         Almond  \n",
       "4                  Muirhouse - 04         Almond  "
      ]
     },
     "execution_count": 39,
     "metadata": {},
     "output_type": "execute_result"
    }
   ],
   "source": [
    "#view first 5 rows of dataframe\n",
    "dfareas.head(5)"
   ]
  },
  {
   "cell_type": "code",
   "execution_count": 40,
   "id": "66a35b27",
   "metadata": {},
   "outputs": [
    {
     "data": {
      "text/html": [
       "<div>\n",
       "<style scoped>\n",
       "    .dataframe tbody tr th:only-of-type {\n",
       "        vertical-align: middle;\n",
       "    }\n",
       "\n",
       "    .dataframe tbody tr th {\n",
       "        vertical-align: top;\n",
       "    }\n",
       "\n",
       "    .dataframe thead th {\n",
       "        text-align: right;\n",
       "    }\n",
       "</style>\n",
       "<table border=\"1\" class=\"dataframe\">\n",
       "  <thead>\n",
       "    <tr style=\"text-align: right;\">\n",
       "      <th></th>\n",
       "      <th>Feature_Name</th>\n",
       "      <th>Electoral_Ward</th>\n",
       "    </tr>\n",
       "  </thead>\n",
       "  <tbody>\n",
       "    <tr>\n",
       "      <th>0</th>\n",
       "      <td>Granton West and Salvesen - 05</td>\n",
       "      <td>Almond</td>\n",
       "    </tr>\n",
       "    <tr>\n",
       "      <th>1</th>\n",
       "      <td>Muirhouse - 01</td>\n",
       "      <td>Almond</td>\n",
       "    </tr>\n",
       "    <tr>\n",
       "      <th>2</th>\n",
       "      <td>Muirhouse - 02</td>\n",
       "      <td>Almond</td>\n",
       "    </tr>\n",
       "    <tr>\n",
       "      <th>3</th>\n",
       "      <td>Muirhouse - 03</td>\n",
       "      <td>Almond</td>\n",
       "    </tr>\n",
       "    <tr>\n",
       "      <th>4</th>\n",
       "      <td>Muirhouse - 04</td>\n",
       "      <td>Almond</td>\n",
       "    </tr>\n",
       "  </tbody>\n",
       "</table>\n",
       "</div>"
      ],
      "text/plain": [
       "                     Feature_Name Electoral_Ward\n",
       "0  Granton West and Salvesen - 05         Almond\n",
       "1                  Muirhouse - 01         Almond\n",
       "2                  Muirhouse - 02         Almond\n",
       "3                  Muirhouse - 03         Almond\n",
       "4                  Muirhouse - 04         Almond"
      ]
     },
     "execution_count": 40,
     "metadata": {},
     "output_type": "execute_result"
    }
   ],
   "source": [
    "#drop first column and view dataframe again\n",
    "dfareas=dfareas.iloc[: , 1:]\n",
    "dfareas.head(5)"
   ]
  },
  {
   "cell_type": "code",
   "execution_count": 41,
   "id": "15e16a58",
   "metadata": {},
   "outputs": [
    {
     "data": {
      "text/html": [
       "<div>\n",
       "<style scoped>\n",
       "    .dataframe tbody tr th:only-of-type {\n",
       "        vertical-align: middle;\n",
       "    }\n",
       "\n",
       "    .dataframe tbody tr th {\n",
       "        vertical-align: top;\n",
       "    }\n",
       "\n",
       "    .dataframe thead th {\n",
       "        text-align: right;\n",
       "    }\n",
       "</style>\n",
       "<table border=\"1\" class=\"dataframe\">\n",
       "  <thead>\n",
       "    <tr style=\"text-align: right;\">\n",
       "      <th></th>\n",
       "      <th>Feature_Name</th>\n",
       "      <th>Electoral_Ward</th>\n",
       "    </tr>\n",
       "  </thead>\n",
       "  <tbody>\n",
       "    <tr>\n",
       "      <th>0</th>\n",
       "      <td>Granton West and Salvesen</td>\n",
       "      <td>Almond</td>\n",
       "    </tr>\n",
       "    <tr>\n",
       "      <th>1</th>\n",
       "      <td>Muirhouse</td>\n",
       "      <td>Almond</td>\n",
       "    </tr>\n",
       "    <tr>\n",
       "      <th>2</th>\n",
       "      <td>Muirhouse</td>\n",
       "      <td>Almond</td>\n",
       "    </tr>\n",
       "    <tr>\n",
       "      <th>3</th>\n",
       "      <td>Muirhouse</td>\n",
       "      <td>Almond</td>\n",
       "    </tr>\n",
       "    <tr>\n",
       "      <th>4</th>\n",
       "      <td>Muirhouse</td>\n",
       "      <td>Almond</td>\n",
       "    </tr>\n",
       "  </tbody>\n",
       "</table>\n",
       "</div>"
      ],
      "text/plain": [
       "                Feature_Name Electoral_Ward\n",
       "0  Granton West and Salvesen         Almond\n",
       "1                  Muirhouse         Almond\n",
       "2                  Muirhouse         Almond\n",
       "3                  Muirhouse         Almond\n",
       "4                  Muirhouse         Almond"
      ]
     },
     "execution_count": 41,
     "metadata": {},
     "output_type": "execute_result"
    }
   ],
   "source": [
    "#split and remove the strings after delimiter and view\n",
    "dfareas['Feature_Name'] = dfareas['Feature_Name'].str.split(' -').str[0]\n",
    "dfareas.head(5)"
   ]
  },
  {
   "cell_type": "code",
   "execution_count": 42,
   "id": "84210495",
   "metadata": {},
   "outputs": [
    {
     "name": "stdout",
     "output_type": "stream",
     "text": [
      "                      neighbourhood_cleansed         broader_area\n",
      "0                  Granton West and Salvesen               Almond\n",
      "1                                  Muirhouse               Almond\n",
      "7          Silverknowes and Davidson's Mains               Almond\n",
      "13                                   Cramond               Almond\n",
      "16          Barnton, Cammo and Cramond South               Almond\n",
      "..                                       ...                  ...\n",
      "547                              Gorgie East     Sighthill/Gorgie\n",
      "559  Blackford, West Mains and Mayfield Road  Southside/Newington\n",
      "567                             Prestonfield  Southside/Newington\n",
      "571              Newington and Dalkeith Road  Southside/Newington\n",
      "576                               The Grange  Southside/Newington\n",
      "\n",
      "[111 rows x 2 columns]\n"
     ]
    }
   ],
   "source": [
    "#remove duplicates based on two columns\n",
    "dfareas = dfareas.drop_duplicates(subset=['Feature_Name'])\n",
    "dfareas.columns = ['neighbourhood_cleansed', 'broader_area']\n",
    "print(dfareas)"
   ]
  },
  {
   "cell_type": "code",
   "execution_count": 43,
   "id": "04b405db",
   "metadata": {},
   "outputs": [],
   "source": [
    "#save dataframe to csv file\n",
    "dfareas.to_csv('broader_areas.csv', index=False)"
   ]
  }
 ],
 "metadata": {
  "kernelspec": {
   "display_name": "Python 3",
   "language": "python",
   "name": "python3"
  },
  "language_info": {
   "codemirror_mode": {
    "name": "ipython",
    "version": 3
   },
   "file_extension": ".py",
   "mimetype": "text/x-python",
   "name": "python",
   "nbconvert_exporter": "python",
   "pygments_lexer": "ipython3",
   "version": "3.8.8"
  }
 },
 "nbformat": 4,
 "nbformat_minor": 5
}
